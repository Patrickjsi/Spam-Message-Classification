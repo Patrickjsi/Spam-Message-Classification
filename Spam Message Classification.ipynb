{
 "cells": [
  {
   "cell_type": "markdown",
   "id": "59453cb0",
   "metadata": {},
   "source": [
    "# 1) Data PreProcessing"
   ]
  },
  {
   "cell_type": "code",
   "execution_count": 1,
   "id": "73519d11",
   "metadata": {},
   "outputs": [],
   "source": [
    "import numpy as np\n",
    "import pandas as pd\n",
    "import matplotlib.pyplot as plt"
   ]
  },
  {
   "cell_type": "code",
   "execution_count": 2,
   "id": "702adbef",
   "metadata": {},
   "outputs": [],
   "source": [
    "df = pd.read_csv('spam.tsv', sep = '\\t')"
   ]
  },
  {
   "cell_type": "code",
   "execution_count": 3,
   "id": "88b7c32f",
   "metadata": {},
   "outputs": [
    {
     "data": {
      "text/html": [
       "<div>\n",
       "<style scoped>\n",
       "    .dataframe tbody tr th:only-of-type {\n",
       "        vertical-align: middle;\n",
       "    }\n",
       "\n",
       "    .dataframe tbody tr th {\n",
       "        vertical-align: top;\n",
       "    }\n",
       "\n",
       "    .dataframe thead th {\n",
       "        text-align: right;\n",
       "    }\n",
       "</style>\n",
       "<table border=\"1\" class=\"dataframe\">\n",
       "  <thead>\n",
       "    <tr style=\"text-align: right;\">\n",
       "      <th></th>\n",
       "      <th>label</th>\n",
       "      <th>message</th>\n",
       "      <th>length</th>\n",
       "      <th>punct</th>\n",
       "    </tr>\n",
       "  </thead>\n",
       "  <tbody>\n",
       "    <tr>\n",
       "      <th>0</th>\n",
       "      <td>ham</td>\n",
       "      <td>Go until jurong point, crazy.. Available only ...</td>\n",
       "      <td>111</td>\n",
       "      <td>9</td>\n",
       "    </tr>\n",
       "    <tr>\n",
       "      <th>1</th>\n",
       "      <td>ham</td>\n",
       "      <td>Ok lar... Joking wif u oni...</td>\n",
       "      <td>29</td>\n",
       "      <td>6</td>\n",
       "    </tr>\n",
       "    <tr>\n",
       "      <th>2</th>\n",
       "      <td>spam</td>\n",
       "      <td>Free entry in 2 a wkly comp to win FA Cup fina...</td>\n",
       "      <td>155</td>\n",
       "      <td>6</td>\n",
       "    </tr>\n",
       "    <tr>\n",
       "      <th>3</th>\n",
       "      <td>ham</td>\n",
       "      <td>U dun say so early hor... U c already then say...</td>\n",
       "      <td>49</td>\n",
       "      <td>6</td>\n",
       "    </tr>\n",
       "    <tr>\n",
       "      <th>4</th>\n",
       "      <td>ham</td>\n",
       "      <td>Nah I don't think he goes to usf, he lives aro...</td>\n",
       "      <td>61</td>\n",
       "      <td>2</td>\n",
       "    </tr>\n",
       "  </tbody>\n",
       "</table>\n",
       "</div>"
      ],
      "text/plain": [
       "  label                                            message  length  punct\n",
       "0   ham  Go until jurong point, crazy.. Available only ...     111      9\n",
       "1   ham                      Ok lar... Joking wif u oni...      29      6\n",
       "2  spam  Free entry in 2 a wkly comp to win FA Cup fina...     155      6\n",
       "3   ham  U dun say so early hor... U c already then say...      49      6\n",
       "4   ham  Nah I don't think he goes to usf, he lives aro...      61      2"
      ]
     },
     "execution_count": 3,
     "metadata": {},
     "output_type": "execute_result"
    }
   ],
   "source": [
    "df.head()"
   ]
  },
  {
   "cell_type": "markdown",
   "id": "9934340b",
   "metadata": {},
   "source": [
    "### We need to do a binary classification between Ham and Spam."
   ]
  },
  {
   "cell_type": "markdown",
   "id": "9b87e398",
   "metadata": {},
   "source": [
    "Lets do some basic data analysis and exploration."
   ]
  },
  {
   "cell_type": "code",
   "execution_count": 4,
   "id": "5c1b91b5",
   "metadata": {},
   "outputs": [
    {
     "data": {
      "text/plain": [
       "label      0\n",
       "message    0\n",
       "length     0\n",
       "punct      0\n",
       "dtype: int64"
      ]
     },
     "execution_count": 4,
     "metadata": {},
     "output_type": "execute_result"
    }
   ],
   "source": [
    "df.isna().sum() \n",
    "#The isna() method returns a DataFrame object where all the values are replaced with a Boolean value \n",
    "#True for NA (not-a -number) values, and otherwise False.\n",
    "#here will try to sum up the TRUE or FALSE value of all the features Like label, message etc."
   ]
  },
  {
   "cell_type": "code",
   "execution_count": 5,
   "id": "71ad9828",
   "metadata": {},
   "outputs": [
    {
     "data": {
      "text/html": [
       "<div>\n",
       "<style scoped>\n",
       "    .dataframe tbody tr th:only-of-type {\n",
       "        vertical-align: middle;\n",
       "    }\n",
       "\n",
       "    .dataframe tbody tr th {\n",
       "        vertical-align: top;\n",
       "    }\n",
       "\n",
       "    .dataframe thead th {\n",
       "        text-align: right;\n",
       "    }\n",
       "</style>\n",
       "<table border=\"1\" class=\"dataframe\">\n",
       "  <thead>\n",
       "    <tr style=\"text-align: right;\">\n",
       "      <th></th>\n",
       "      <th>label</th>\n",
       "      <th>message</th>\n",
       "      <th>length</th>\n",
       "      <th>punct</th>\n",
       "    </tr>\n",
       "  </thead>\n",
       "  <tbody>\n",
       "    <tr>\n",
       "      <th>5567</th>\n",
       "      <td>spam</td>\n",
       "      <td>This is the 2nd time we have tried 2 contact u...</td>\n",
       "      <td>160</td>\n",
       "      <td>8</td>\n",
       "    </tr>\n",
       "    <tr>\n",
       "      <th>5568</th>\n",
       "      <td>ham</td>\n",
       "      <td>Will ü b going to esplanade fr home?</td>\n",
       "      <td>36</td>\n",
       "      <td>1</td>\n",
       "    </tr>\n",
       "    <tr>\n",
       "      <th>5569</th>\n",
       "      <td>ham</td>\n",
       "      <td>Pity, * was in mood for that. So...any other s...</td>\n",
       "      <td>57</td>\n",
       "      <td>7</td>\n",
       "    </tr>\n",
       "    <tr>\n",
       "      <th>5570</th>\n",
       "      <td>ham</td>\n",
       "      <td>The guy did some bitching but I acted like i'd...</td>\n",
       "      <td>125</td>\n",
       "      <td>1</td>\n",
       "    </tr>\n",
       "    <tr>\n",
       "      <th>5571</th>\n",
       "      <td>ham</td>\n",
       "      <td>Rofl. Its true to its name</td>\n",
       "      <td>26</td>\n",
       "      <td>1</td>\n",
       "    </tr>\n",
       "  </tbody>\n",
       "</table>\n",
       "</div>"
      ],
      "text/plain": [
       "     label                                            message  length  punct\n",
       "5567  spam  This is the 2nd time we have tried 2 contact u...     160      8\n",
       "5568   ham               Will ü b going to esplanade fr home?      36      1\n",
       "5569   ham  Pity, * was in mood for that. So...any other s...      57      7\n",
       "5570   ham  The guy did some bitching but I acted like i'd...     125      1\n",
       "5571   ham                         Rofl. Its true to its name      26      1"
      ]
     },
     "execution_count": 5,
     "metadata": {},
     "output_type": "execute_result"
    }
   ],
   "source": [
    "df.tail()"
   ]
  },
  {
   "cell_type": "code",
   "execution_count": 6,
   "id": "b77dff37",
   "metadata": {},
   "outputs": [
    {
     "data": {
      "text/html": [
       "<div>\n",
       "<style scoped>\n",
       "    .dataframe tbody tr th:only-of-type {\n",
       "        vertical-align: middle;\n",
       "    }\n",
       "\n",
       "    .dataframe tbody tr th {\n",
       "        vertical-align: top;\n",
       "    }\n",
       "\n",
       "    .dataframe thead th {\n",
       "        text-align: right;\n",
       "    }\n",
       "</style>\n",
       "<table border=\"1\" class=\"dataframe\">\n",
       "  <thead>\n",
       "    <tr style=\"text-align: right;\">\n",
       "      <th></th>\n",
       "      <th>length</th>\n",
       "      <th>punct</th>\n",
       "    </tr>\n",
       "  </thead>\n",
       "  <tbody>\n",
       "    <tr>\n",
       "      <th>count</th>\n",
       "      <td>5572.000000</td>\n",
       "      <td>5572.000000</td>\n",
       "    </tr>\n",
       "    <tr>\n",
       "      <th>mean</th>\n",
       "      <td>80.489950</td>\n",
       "      <td>4.177495</td>\n",
       "    </tr>\n",
       "    <tr>\n",
       "      <th>std</th>\n",
       "      <td>59.942907</td>\n",
       "      <td>4.623919</td>\n",
       "    </tr>\n",
       "    <tr>\n",
       "      <th>min</th>\n",
       "      <td>2.000000</td>\n",
       "      <td>0.000000</td>\n",
       "    </tr>\n",
       "    <tr>\n",
       "      <th>25%</th>\n",
       "      <td>36.000000</td>\n",
       "      <td>2.000000</td>\n",
       "    </tr>\n",
       "    <tr>\n",
       "      <th>50%</th>\n",
       "      <td>62.000000</td>\n",
       "      <td>3.000000</td>\n",
       "    </tr>\n",
       "    <tr>\n",
       "      <th>75%</th>\n",
       "      <td>122.000000</td>\n",
       "      <td>6.000000</td>\n",
       "    </tr>\n",
       "    <tr>\n",
       "      <th>max</th>\n",
       "      <td>910.000000</td>\n",
       "      <td>133.000000</td>\n",
       "    </tr>\n",
       "  </tbody>\n",
       "</table>\n",
       "</div>"
      ],
      "text/plain": [
       "            length        punct\n",
       "count  5572.000000  5572.000000\n",
       "mean     80.489950     4.177495\n",
       "std      59.942907     4.623919\n",
       "min       2.000000     0.000000\n",
       "25%      36.000000     2.000000\n",
       "50%      62.000000     3.000000\n",
       "75%     122.000000     6.000000\n",
       "max     910.000000   133.000000"
      ]
     },
     "execution_count": 6,
     "metadata": {},
     "output_type": "execute_result"
    }
   ],
   "source": [
    "df.describe()"
   ]
  },
  {
   "cell_type": "code",
   "execution_count": 7,
   "id": "00de4176",
   "metadata": {},
   "outputs": [
    {
     "data": {
      "text/plain": [
       "ham     4825\n",
       "spam     747\n",
       "Name: label, dtype: int64"
      ]
     },
     "execution_count": 7,
     "metadata": {},
     "output_type": "execute_result"
    }
   ],
   "source": [
    "df['label'].value_counts()"
   ]
  },
  {
   "cell_type": "code",
   "execution_count": 8,
   "id": "3eee9fe6",
   "metadata": {},
   "outputs": [
    {
     "data": {
      "text/plain": [
       "ham     86.593683\n",
       "spam    13.406317\n",
       "Name: label, dtype: float64"
      ]
     },
     "execution_count": 8,
     "metadata": {},
     "output_type": "execute_result"
    }
   ],
   "source": [
    "df['label'].value_counts()/len(df)*100 # gives in percentage result"
   ]
  },
  {
   "cell_type": "markdown",
   "id": "4bb57475",
   "metadata": {},
   "source": [
    "We will try to equivalence the data set as the Ham part is significantly more than spam part. It will be beneficial for the training."
   ]
  },
  {
   "cell_type": "markdown",
   "id": "2daf1dcc",
   "metadata": {},
   "source": [
    "## Balancing of Data Set"
   ]
  },
  {
   "cell_type": "code",
   "execution_count": 9,
   "id": "941aa329",
   "metadata": {},
   "outputs": [],
   "source": [
    "#we will try to discard the messeges from Ham Category\n",
    "ham = df[df[\"label\"] == 'ham']\n",
    "spam = df[df[\"label\"] == 'spam']"
   ]
  },
  {
   "cell_type": "code",
   "execution_count": 10,
   "id": "fef6ce1a",
   "metadata": {},
   "outputs": [
    {
     "data": {
      "text/plain": [
       "((4825, 4), (747, 4))"
      ]
     },
     "execution_count": 10,
     "metadata": {},
     "output_type": "execute_result"
    }
   ],
   "source": [
    "ham.shape, spam.shape"
   ]
  },
  {
   "cell_type": "code",
   "execution_count": 11,
   "id": "f4899861",
   "metadata": {},
   "outputs": [],
   "source": [
    "ham = ham.sample(spam.shape[0]) \n",
    "#we use sample function to choose no of samples from ham = no. of rows in spam"
   ]
  },
  {
   "cell_type": "code",
   "execution_count": 12,
   "id": "4da27c22",
   "metadata": {},
   "outputs": [
    {
     "data": {
      "text/plain": [
       "((747, 4), (747, 4))"
      ]
     },
     "execution_count": 12,
     "metadata": {},
     "output_type": "execute_result"
    }
   ],
   "source": [
    "ham.shape, spam.shape"
   ]
  },
  {
   "cell_type": "code",
   "execution_count": 13,
   "id": "04e7de8f",
   "metadata": {},
   "outputs": [
    {
     "name": "stderr",
     "output_type": "stream",
     "text": [
      "C:\\Users\\ASUS\\AppData\\Local\\Temp\\ipykernel_29072\\2464737184.py:1: FutureWarning: The frame.append method is deprecated and will be removed from pandas in a future version. Use pandas.concat instead.\n",
      "  data = ham.append(spam, ignore_index = True)\n"
     ]
    }
   ],
   "source": [
    "data = ham.append(spam, ignore_index = True)"
   ]
  },
  {
   "cell_type": "code",
   "execution_count": 14,
   "id": "ae634de2",
   "metadata": {},
   "outputs": [
    {
     "data": {
      "text/plain": [
       "(1494, 4)"
      ]
     },
     "execution_count": 14,
     "metadata": {},
     "output_type": "execute_result"
    }
   ],
   "source": [
    "data.shape"
   ]
  },
  {
   "cell_type": "code",
   "execution_count": 15,
   "id": "8a6289b6",
   "metadata": {},
   "outputs": [
    {
     "data": {
      "text/plain": [
       "ham     747\n",
       "spam    747\n",
       "Name: label, dtype: int64"
      ]
     },
     "execution_count": 15,
     "metadata": {},
     "output_type": "execute_result"
    }
   ],
   "source": [
    "data['label'].value_counts()"
   ]
  },
  {
   "cell_type": "code",
   "execution_count": 16,
   "id": "7a1dec9b",
   "metadata": {},
   "outputs": [
    {
     "data": {
      "text/html": [
       "<div>\n",
       "<style scoped>\n",
       "    .dataframe tbody tr th:only-of-type {\n",
       "        vertical-align: middle;\n",
       "    }\n",
       "\n",
       "    .dataframe tbody tr th {\n",
       "        vertical-align: top;\n",
       "    }\n",
       "\n",
       "    .dataframe thead th {\n",
       "        text-align: right;\n",
       "    }\n",
       "</style>\n",
       "<table border=\"1\" class=\"dataframe\">\n",
       "  <thead>\n",
       "    <tr style=\"text-align: right;\">\n",
       "      <th></th>\n",
       "      <th>label</th>\n",
       "      <th>message</th>\n",
       "      <th>length</th>\n",
       "      <th>punct</th>\n",
       "    </tr>\n",
       "  </thead>\n",
       "  <tbody>\n",
       "    <tr>\n",
       "      <th>0</th>\n",
       "      <td>ham</td>\n",
       "      <td>Mostly sports type..lyk footbl,crckt..</td>\n",
       "      <td>38</td>\n",
       "      <td>5</td>\n",
       "    </tr>\n",
       "    <tr>\n",
       "      <th>1</th>\n",
       "      <td>ham</td>\n",
       "      <td>Sent me de webadres for geting salary slip</td>\n",
       "      <td>42</td>\n",
       "      <td>0</td>\n",
       "    </tr>\n",
       "    <tr>\n",
       "      <th>2</th>\n",
       "      <td>ham</td>\n",
       "      <td>And smile for me right now as you go and the w...</td>\n",
       "      <td>145</td>\n",
       "      <td>5</td>\n",
       "    </tr>\n",
       "    <tr>\n",
       "      <th>3</th>\n",
       "      <td>ham</td>\n",
       "      <td>Don know..he is watching film in computer..</td>\n",
       "      <td>43</td>\n",
       "      <td>4</td>\n",
       "    </tr>\n",
       "    <tr>\n",
       "      <th>4</th>\n",
       "      <td>ham</td>\n",
       "      <td>I've got  &amp;lt;#&amp;gt; , any way I could pick up?</td>\n",
       "      <td>46</td>\n",
       "      <td>8</td>\n",
       "    </tr>\n",
       "  </tbody>\n",
       "</table>\n",
       "</div>"
      ],
      "text/plain": [
       "  label                                            message  length  punct\n",
       "0   ham             Mostly sports type..lyk footbl,crckt..      38      5\n",
       "1   ham         Sent me de webadres for geting salary slip      42      0\n",
       "2   ham  And smile for me right now as you go and the w...     145      5\n",
       "3   ham        Don know..he is watching film in computer..      43      4\n",
       "4   ham     I've got  &lt;#&gt; , any way I could pick up?      46      8"
      ]
     },
     "execution_count": 16,
     "metadata": {},
     "output_type": "execute_result"
    }
   ],
   "source": [
    "data.head()"
   ]
  },
  {
   "cell_type": "markdown",
   "id": "d96ebd68",
   "metadata": {},
   "source": [
    "# 2) Data Exploration"
   ]
  },
  {
   "cell_type": "code",
   "execution_count": 17,
   "id": "0fabe707",
   "metadata": {},
   "outputs": [
    {
     "data": {
      "image/png": "[encoded data removed]",
      "text/plain": [
       "<Figure size 640x480 with 1 Axes>"
      ]
     },
     "metadata": {},
     "output_type": "display_data"
    }
   ],
   "source": [
    "#We try to perform a viz for Ham cateogory through Histogram\n",
    "plt.hist(data[data[\"label\"] == 'ham']['length'], bins = 100,  alpha = 0.7)\n",
    "plt.hist(data[data[\"label\"] == 'spam']['length'], bins = 100,  alpha = 0.7)\n",
    "plt.show()"
   ]
  },
  {
   "cell_type": "code",
   "execution_count": 18,
   "id": "c4cb32cb",
   "metadata": {},
   "outputs": [
    {
     "data": {
      "image/png": "[encoded data removed]",
      "text/plain": [
       "<Figure size 640x480 with 1 Axes>"
      ]
     },
     "metadata": {},
     "output_type": "display_data"
    }
   ],
   "source": [
    "plt.hist(data[data[\"label\"] == 'ham']['punct'], bins = 100,  alpha = 0.7)\n",
    "plt.hist(data[data[\"label\"] == 'spam']['punct'], bins = 100,  alpha = 0.7)\n",
    "plt.show()"
   ]
  },
  {
   "cell_type": "markdown",
   "id": "b3ec2529",
   "metadata": {},
   "source": [
    "Here we can see that the higher spam probabilty is at Longer length of Sentences though there are some long ham messages as well."
   ]
  },
  {
   "cell_type": "markdown",
   "id": "801d0f04",
   "metadata": {},
   "source": [
    "Considering histogram of the punctuation feature we dont really get much insights from it."
   ]
  },
  {
   "cell_type": "markdown",
   "id": "908384f4",
   "metadata": {},
   "source": [
    "# 3) Data Split into Training and Testing"
   ]
  },
  {
   "cell_type": "markdown",
   "id": "64975953",
   "metadata": {},
   "source": [
    "We are going to apply supervised learning model for our classification job. For that as we know, supervised learning model needs some amount of training data(pre-defined output or Labelled Data) to test the rest of the data."
   ]
  },
  {
   "cell_type": "markdown",
   "id": "e3e13886",
   "metadata": {},
   "source": [
    "Never ever use testing dataset for model training because to check accuracy of the model."
   ]
  },
  {
   "cell_type": "code",
   "execution_count": 19,
   "id": "6be090f9",
   "metadata": {},
   "outputs": [
    {
     "data": {
      "text/html": [
       "<div>\n",
       "<style scoped>\n",
       "    .dataframe tbody tr th:only-of-type {\n",
       "        vertical-align: middle;\n",
       "    }\n",
       "\n",
       "    .dataframe tbody tr th {\n",
       "        vertical-align: top;\n",
       "    }\n",
       "\n",
       "    .dataframe thead th {\n",
       "        text-align: right;\n",
       "    }\n",
       "</style>\n",
       "<table border=\"1\" class=\"dataframe\">\n",
       "  <thead>\n",
       "    <tr style=\"text-align: right;\">\n",
       "      <th></th>\n",
       "      <th>label</th>\n",
       "      <th>message</th>\n",
       "      <th>length</th>\n",
       "      <th>punct</th>\n",
       "    </tr>\n",
       "  </thead>\n",
       "  <tbody>\n",
       "    <tr>\n",
       "      <th>0</th>\n",
       "      <td>ham</td>\n",
       "      <td>Mostly sports type..lyk footbl,crckt..</td>\n",
       "      <td>38</td>\n",
       "      <td>5</td>\n",
       "    </tr>\n",
       "    <tr>\n",
       "      <th>1</th>\n",
       "      <td>ham</td>\n",
       "      <td>Sent me de webadres for geting salary slip</td>\n",
       "      <td>42</td>\n",
       "      <td>0</td>\n",
       "    </tr>\n",
       "    <tr>\n",
       "      <th>2</th>\n",
       "      <td>ham</td>\n",
       "      <td>And smile for me right now as you go and the w...</td>\n",
       "      <td>145</td>\n",
       "      <td>5</td>\n",
       "    </tr>\n",
       "    <tr>\n",
       "      <th>3</th>\n",
       "      <td>ham</td>\n",
       "      <td>Don know..he is watching film in computer..</td>\n",
       "      <td>43</td>\n",
       "      <td>4</td>\n",
       "    </tr>\n",
       "    <tr>\n",
       "      <th>4</th>\n",
       "      <td>ham</td>\n",
       "      <td>I've got  &amp;lt;#&amp;gt; , any way I could pick up?</td>\n",
       "      <td>46</td>\n",
       "      <td>8</td>\n",
       "    </tr>\n",
       "    <tr>\n",
       "      <th>...</th>\n",
       "      <td>...</td>\n",
       "      <td>...</td>\n",
       "      <td>...</td>\n",
       "      <td>...</td>\n",
       "    </tr>\n",
       "    <tr>\n",
       "      <th>1489</th>\n",
       "      <td>spam</td>\n",
       "      <td>Want explicit SEX in 30 secs? Ring 02073162414...</td>\n",
       "      <td>90</td>\n",
       "      <td>3</td>\n",
       "    </tr>\n",
       "    <tr>\n",
       "      <th>1490</th>\n",
       "      <td>spam</td>\n",
       "      <td>ASKED 3MOBILE IF 0870 CHATLINES INCLU IN FREE ...</td>\n",
       "      <td>158</td>\n",
       "      <td>5</td>\n",
       "    </tr>\n",
       "    <tr>\n",
       "      <th>1491</th>\n",
       "      <td>spam</td>\n",
       "      <td>Had your contract mobile 11 Mnths? Latest Moto...</td>\n",
       "      <td>160</td>\n",
       "      <td>8</td>\n",
       "    </tr>\n",
       "    <tr>\n",
       "      <th>1492</th>\n",
       "      <td>spam</td>\n",
       "      <td>REMINDER FROM O2: To get 2.50 pounds free call...</td>\n",
       "      <td>147</td>\n",
       "      <td>3</td>\n",
       "    </tr>\n",
       "    <tr>\n",
       "      <th>1493</th>\n",
       "      <td>spam</td>\n",
       "      <td>This is the 2nd time we have tried 2 contact u...</td>\n",
       "      <td>160</td>\n",
       "      <td>8</td>\n",
       "    </tr>\n",
       "  </tbody>\n",
       "</table>\n",
       "<p>1494 rows × 4 columns</p>\n",
       "</div>"
      ],
      "text/plain": [
       "     label                                            message  length  punct\n",
       "0      ham             Mostly sports type..lyk footbl,crckt..      38      5\n",
       "1      ham         Sent me de webadres for geting salary slip      42      0\n",
       "2      ham  And smile for me right now as you go and the w...     145      5\n",
       "3      ham        Don know..he is watching film in computer..      43      4\n",
       "4      ham     I've got  &lt;#&gt; , any way I could pick up?      46      8\n",
       "...    ...                                                ...     ...    ...\n",
       "1489  spam  Want explicit SEX in 30 secs? Ring 02073162414...      90      3\n",
       "1490  spam  ASKED 3MOBILE IF 0870 CHATLINES INCLU IN FREE ...     158      5\n",
       "1491  spam  Had your contract mobile 11 Mnths? Latest Moto...     160      8\n",
       "1492  spam  REMINDER FROM O2: To get 2.50 pounds free call...     147      3\n",
       "1493  spam  This is the 2nd time we have tried 2 contact u...     160      8\n",
       "\n",
       "[1494 rows x 4 columns]"
      ]
     },
     "execution_count": 19,
     "metadata": {},
     "output_type": "execute_result"
    }
   ],
   "source": [
    "data"
   ]
  },
  {
   "cell_type": "markdown",
   "id": "93a077a4",
   "metadata": {},
   "source": [
    "We are considering 70% of the data set for Training purpose bucket and rest 30% for the testing purpose bucket."
   ]
  },
  {
   "cell_type": "code",
   "execution_count": 20,
   "id": "c4af563f",
   "metadata": {},
   "outputs": [],
   "source": [
    "from sklearn.model_selection import train_test_split"
   ]
  },
  {
   "cell_type": "markdown",
   "id": "8033ba17",
   "metadata": {},
   "source": [
    "The train_test_split model will return 4 values so we need to assign 4 variables to it."
   ]
  },
  {
   "cell_type": "code",
   "execution_count": 21,
   "id": "cc0fa4fe",
   "metadata": {},
   "outputs": [],
   "source": [
    "x_train, x_test, y_train, y_test = train_test_split(data['message'], data['label'], test_size = 0.3, random_state = 0, shuffle = True)"
   ]
  },
  {
   "cell_type": "code",
   "execution_count": 22,
   "id": "72e3cfed",
   "metadata": {},
   "outputs": [
    {
     "data": {
      "text/plain": [
       "((1045,), (1045,), (449,), (449,))"
      ]
     },
     "execution_count": 22,
     "metadata": {},
     "output_type": "execute_result"
    }
   ],
   "source": [
    "x_train.shape, y_train.shape, x_test.shape, y_test.shape"
   ]
  },
  {
   "cell_type": "markdown",
   "id": "73500005",
   "metadata": {},
   "source": [
    "# 4) Application of Random Forest Model"
   ]
  },
  {
   "cell_type": "markdown",
   "id": "2dc41075",
   "metadata": {},
   "source": [
    "We can not directly apply the text datas into ML model. For that we need convert them into numbers."
   ]
  },
  {
   "cell_type": "markdown",
   "id": "3e526053",
   "metadata": {},
   "source": [
    "The conversion should be in such a way that the semantic relationships are valid. So we can use a encoder called TF-IDF or Term frequency-Inverse Document Frequency model. https://monkeylearn.com/blog/what-is-tf-idf/"
   ]
  },
  {
   "cell_type": "code",
   "execution_count": 23,
   "id": "38a7f009",
   "metadata": {},
   "outputs": [],
   "source": [
    "#import tf-idf, Random Forest\n",
    "from sklearn.feature_extraction.text import TfidfVectorizer\n",
    "from sklearn.ensemble import RandomForestClassifier\n",
    "\n",
    "#create pipeline object\n",
    "from sklearn.pipeline import Pipeline"
   ]
  },
  {
   "cell_type": "markdown",
   "id": "bd2ff82c",
   "metadata": {},
   "source": [
    "we will pass both the vectorizer and random forest classifier into a pipeline object so that we can use it together"
   ]
  },
  {
   "cell_type": "code",
   "execution_count": 24,
   "id": "e23a4824",
   "metadata": {},
   "outputs": [],
   "source": [
    "classifier = Pipeline([(\"tfidf\", TfidfVectorizer()), (\"classifier\", RandomForestClassifier(n_estimators = 100))])"
   ]
  },
  {
   "cell_type": "code",
   "execution_count": 25,
   "id": "268812cc",
   "metadata": {},
   "outputs": [
    {
     "data": {
      "text/html": [
       "<style>#sk-container-id-1 {color: black;background-color: white;}#sk-container-id-1 pre{padding: 0;}#sk-container-id-1 div.sk-toggleable {background-color: white;}#sk-container-id-1 label.sk-toggleable__label {cursor: pointer;display: block;width: 100%;margin-bottom: 0;padding: 0.3em;box-sizing: border-box;text-align: center;}#sk-container-id-1 label.sk-toggleable__label-arrow:before {content: \"▸\";float: left;margin-right: 0.25em;color: #696969;}#sk-container-id-1 label.sk-toggleable__label-arrow:hover:before {color: black;}#sk-container-id-1 div.sk-estimator:hover label.sk-toggleable__label-arrow:before {color: black;}#sk-container-id-1 div.sk-toggleable__content {max-height: 0;max-width: 0;overflow: hidden;text-align: left;background-color: #f0f8ff;}#sk-container-id-1 div.sk-toggleable__content pre {margin: 0.2em;color: black;border-radius: 0.25em;background-color: #f0f8ff;}#sk-container-id-1 input.sk-toggleable__control:checked~div.sk-toggleable__content {max-height: 200px;max-width: 100%;overflow: auto;}#sk-container-id-1 input.sk-toggleable__control:checked~label.sk-toggleable__label-arrow:before {content: \"▾\";}#sk-container-id-1 div.sk-estimator input.sk-toggleable__control:checked~label.sk-toggleable__label {background-color: #d4ebff;}#sk-container-id-1 div.sk-label input.sk-toggleable__control:checked~label.sk-toggleable__label {background-color: #d4ebff;}#sk-container-id-1 input.sk-hidden--visually {border: 0;clip: rect(1px 1px 1px 1px);clip: rect(1px, 1px, 1px, 1px);height: 1px;margin: -1px;overflow: hidden;padding: 0;position: absolute;width: 1px;}#sk-container-id-1 div.sk-estimator {font-family: monospace;background-color: #f0f8ff;border: 1px dotted black;border-radius: 0.25em;box-sizing: border-box;margin-bottom: 0.5em;}#sk-container-id-1 div.sk-estimator:hover {background-color: #d4ebff;}#sk-container-id-1 div.sk-parallel-item::after {content: \"\";width: 100%;border-bottom: 1px solid gray;flex-grow: 1;}#sk-container-id-1 div.sk-label:hover label.sk-toggleable__label {background-color: #d4ebff;}#sk-container-id-1 div.sk-serial::before {content: \"\";position: absolute;border-left: 1px solid gray;box-sizing: border-box;top: 0;bottom: 0;left: 50%;z-index: 0;}#sk-container-id-1 div.sk-serial {display: flex;flex-direction: column;align-items: center;background-color: white;padding-right: 0.2em;padding-left: 0.2em;position: relative;}#sk-container-id-1 div.sk-item {position: relative;z-index: 1;}#sk-container-id-1 div.sk-parallel {display: flex;align-items: stretch;justify-content: center;background-color: white;position: relative;}#sk-container-id-1 div.sk-item::before, #sk-container-id-1 div.sk-parallel-item::before {content: \"\";position: absolute;border-left: 1px solid gray;box-sizing: border-box;top: 0;bottom: 0;left: 50%;z-index: -1;}#sk-container-id-1 div.sk-parallel-item {display: flex;flex-direction: column;z-index: 1;position: relative;background-color: white;}#sk-container-id-1 div.sk-parallel-item:first-child::after {align-self: flex-end;width: 50%;}#sk-container-id-1 div.sk-parallel-item:last-child::after {align-self: flex-start;width: 50%;}#sk-container-id-1 div.sk-parallel-item:only-child::after {width: 0;}#sk-container-id-1 div.sk-dashed-wrapped {border: 1px dashed gray;margin: 0 0.4em 0.5em 0.4em;box-sizing: border-box;padding-bottom: 0.4em;background-color: white;}#sk-container-id-1 div.sk-label label {font-family: monospace;font-weight: bold;display: inline-block;line-height: 1.2em;}#sk-container-id-1 div.sk-label-container {text-align: center;}#sk-container-id-1 div.sk-container {/* jupyter's `normalize.less` sets `[hidden] { display: none; }` but bootstrap.min.css set `[hidden] { display: none !important; }` so we also need the `!important` here to be able to override the default hidden behavior on the sphinx rendered scikit-learn.org. See: https://github.com/scikit-learn/scikit-learn/issues/21755 */display: inline-block !important;position: relative;}#sk-container-id-1 div.sk-text-repr-fallback {display: none;}</style><div id=\"sk-container-id-1\" class=\"sk-top-container\"><div class=\"sk-text-repr-fallback\"><pre>Pipeline(steps=[(&#x27;tfidf&#x27;, TfidfVectorizer()),\n",
       "                (&#x27;classifier&#x27;, RandomForestClassifier())])</pre><b>In a Jupyter environment, please rerun this cell to show the HTML representation or trust the notebook. <br />On GitHub, the HTML representation is unable to render, please try loading this page with nbviewer.org.</b></div><div class=\"sk-container\" hidden><div class=\"sk-item sk-dashed-wrapped\"><div class=\"sk-label-container\"><div class=\"sk-label sk-toggleable\"><input class=\"sk-toggleable__control sk-hidden--visually\" id=\"sk-estimator-id-1\" type=\"checkbox\" ><label for=\"sk-estimator-id-1\" class=\"sk-toggleable__label sk-toggleable__label-arrow\">Pipeline</label><div class=\"sk-toggleable__content\"><pre>Pipeline(steps=[(&#x27;tfidf&#x27;, TfidfVectorizer()),\n",
       "                (&#x27;classifier&#x27;, RandomForestClassifier())])</pre></div></div></div><div class=\"sk-serial\"><div class=\"sk-item\"><div class=\"sk-estimator sk-toggleable\"><input class=\"sk-toggleable__control sk-hidden--visually\" id=\"sk-estimator-id-2\" type=\"checkbox\" ><label for=\"sk-estimator-id-2\" class=\"sk-toggleable__label sk-toggleable__label-arrow\">TfidfVectorizer</label><div class=\"sk-toggleable__content\"><pre>TfidfVectorizer()</pre></div></div></div><div class=\"sk-item\"><div class=\"sk-estimator sk-toggleable\"><input class=\"sk-toggleable__control sk-hidden--visually\" id=\"sk-estimator-id-3\" type=\"checkbox\" ><label for=\"sk-estimator-id-3\" class=\"sk-toggleable__label sk-toggleable__label-arrow\">RandomForestClassifier</label><div class=\"sk-toggleable__content\"><pre>RandomForestClassifier()</pre></div></div></div></div></div></div></div>"
      ],
      "text/plain": [
       "Pipeline(steps=[('tfidf', TfidfVectorizer()),\n",
       "                ('classifier', RandomForestClassifier())])"
      ]
     },
     "execution_count": 25,
     "metadata": {},
     "output_type": "execute_result"
    }
   ],
   "source": [
    "classifier.fit(x_train, y_train)"
   ]
  },
  {
   "cell_type": "markdown",
   "id": "eca17c3c",
   "metadata": {},
   "source": [
    "# 5) Prediction of Random Forest Results"
   ]
  },
  {
   "cell_type": "code",
   "execution_count": 26,
   "id": "c7e34318",
   "metadata": {},
   "outputs": [],
   "source": [
    "y_pred = classifier.predict(x_test)"
   ]
  },
  {
   "cell_type": "code",
   "execution_count": 27,
   "id": "57871c27",
   "metadata": {},
   "outputs": [
    {
     "data": {
      "text/plain": [
       "(799     spam\n",
       " 1047    spam\n",
       " 1436    spam\n",
       " 54       ham\n",
       " 793     spam\n",
       "         ... \n",
       " 824     spam\n",
       " 822     spam\n",
       " 644      ham\n",
       " 1034    spam\n",
       " 1356    spam\n",
       " Name: label, Length: 449, dtype: object,\n",
       " array(['spam', 'spam', 'spam', 'ham', 'spam', 'spam', 'ham', 'ham', 'ham',\n",
       "        'ham', 'spam', 'spam', 'ham', 'spam', 'spam', 'spam', 'spam',\n",
       "        'ham', 'spam', 'spam', 'spam', 'ham', 'spam', 'spam', 'ham',\n",
       "        'spam', 'ham', 'ham', 'spam', 'ham', 'ham', 'spam', 'spam', 'spam',\n",
       "        'spam', 'spam', 'ham', 'ham', 'ham', 'ham', 'ham', 'ham', 'spam',\n",
       "        'ham', 'ham', 'spam', 'ham', 'ham', 'spam', 'spam', 'ham', 'ham',\n",
       "        'ham', 'spam', 'spam', 'spam', 'ham', 'ham', 'spam', 'ham', 'ham',\n",
       "        'ham', 'spam', 'spam', 'spam', 'ham', 'ham', 'ham', 'spam', 'spam',\n",
       "        'spam', 'spam', 'spam', 'ham', 'ham', 'spam', 'spam', 'ham', 'ham',\n",
       "        'ham', 'spam', 'ham', 'ham', 'ham', 'ham', 'spam', 'spam', 'ham',\n",
       "        'spam', 'ham', 'ham', 'spam', 'ham', 'ham', 'spam', 'spam', 'spam',\n",
       "        'ham', 'ham', 'ham', 'spam', 'ham', 'ham', 'spam', 'ham', 'ham',\n",
       "        'ham', 'ham', 'spam', 'spam', 'spam', 'ham', 'ham', 'ham', 'ham',\n",
       "        'spam', 'spam', 'ham', 'spam', 'ham', 'ham', 'ham', 'ham', 'ham',\n",
       "        'ham', 'ham', 'ham', 'ham', 'ham', 'spam', 'ham', 'spam', 'spam',\n",
       "        'ham', 'spam', 'spam', 'spam', 'spam', 'spam', 'spam', 'ham',\n",
       "        'ham', 'ham', 'ham', 'ham', 'spam', 'spam', 'spam', 'ham', 'spam',\n",
       "        'ham', 'spam', 'ham', 'spam', 'ham', 'ham', 'spam', 'ham', 'ham',\n",
       "        'ham', 'ham', 'ham', 'ham', 'spam', 'spam', 'ham', 'ham', 'ham',\n",
       "        'ham', 'ham', 'ham', 'spam', 'spam', 'ham', 'spam', 'ham', 'spam',\n",
       "        'ham', 'ham', 'ham', 'spam', 'ham', 'spam', 'spam', 'spam', 'spam',\n",
       "        'spam', 'ham', 'ham', 'ham', 'ham', 'ham', 'ham', 'ham', 'ham',\n",
       "        'spam', 'ham', 'spam', 'spam', 'spam', 'ham', 'spam', 'ham', 'ham',\n",
       "        'spam', 'ham', 'spam', 'spam', 'spam', 'spam', 'ham', 'ham', 'ham',\n",
       "        'ham', 'ham', 'ham', 'ham', 'spam', 'spam', 'spam', 'ham', 'ham',\n",
       "        'spam', 'spam', 'ham', 'ham', 'spam', 'ham', 'spam', 'spam', 'ham',\n",
       "        'ham', 'ham', 'spam', 'spam', 'spam', 'spam', 'spam', 'ham',\n",
       "        'spam', 'spam', 'spam', 'ham', 'ham', 'spam', 'spam', 'ham', 'ham',\n",
       "        'ham', 'spam', 'spam', 'ham', 'ham', 'ham', 'ham', 'spam', 'spam',\n",
       "        'ham', 'ham', 'spam', 'ham', 'spam', 'spam', 'ham', 'spam', 'ham',\n",
       "        'ham', 'spam', 'ham', 'spam', 'ham', 'ham', 'spam', 'ham', 'spam',\n",
       "        'spam', 'spam', 'ham', 'spam', 'ham', 'spam', 'spam', 'ham',\n",
       "        'spam', 'ham', 'spam', 'spam', 'ham', 'spam', 'spam', 'spam',\n",
       "        'ham', 'spam', 'spam', 'ham', 'ham', 'spam', 'ham', 'ham', 'ham',\n",
       "        'spam', 'spam', 'spam', 'ham', 'ham', 'ham', 'ham', 'ham', 'spam',\n",
       "        'spam', 'ham', 'ham', 'spam', 'spam', 'spam', 'spam', 'ham',\n",
       "        'spam', 'spam', 'spam', 'ham', 'ham', 'ham', 'ham', 'spam', 'ham',\n",
       "        'ham', 'spam', 'spam', 'ham', 'spam', 'ham', 'spam', 'ham', 'ham',\n",
       "        'ham', 'spam', 'ham', 'spam', 'ham', 'spam', 'ham', 'spam', 'spam',\n",
       "        'spam', 'ham', 'ham', 'spam', 'spam', 'ham', 'ham', 'spam', 'spam',\n",
       "        'ham', 'ham', 'ham', 'ham', 'spam', 'ham', 'ham', 'ham', 'spam',\n",
       "        'ham', 'ham', 'spam', 'spam', 'spam', 'ham', 'ham', 'ham', 'ham',\n",
       "        'ham', 'ham', 'spam', 'ham', 'ham', 'ham', 'spam', 'ham', 'ham',\n",
       "        'ham', 'ham', 'spam', 'spam', 'ham', 'spam', 'spam', 'spam', 'ham',\n",
       "        'ham', 'spam', 'ham', 'ham', 'spam', 'ham', 'spam', 'ham', 'ham',\n",
       "        'spam', 'ham', 'ham', 'spam', 'ham', 'ham', 'spam', 'ham', 'ham',\n",
       "        'spam', 'spam', 'ham', 'ham', 'spam', 'spam', 'spam', 'ham',\n",
       "        'spam', 'spam', 'spam', 'ham', 'ham', 'ham', 'spam', 'spam', 'ham',\n",
       "        'spam', 'ham', 'ham', 'ham', 'ham', 'spam', 'ham', 'ham', 'spam',\n",
       "        'spam', 'spam', 'ham', 'ham', 'spam', 'ham', 'spam', 'spam',\n",
       "        'spam', 'ham', 'spam', 'ham', 'spam', 'ham', 'spam', 'spam'],\n",
       "       dtype=object))"
      ]
     },
     "execution_count": 27,
     "metadata": {},
     "output_type": "execute_result"
    }
   ],
   "source": [
    "y_test, y_pred"
   ]
  },
  {
   "cell_type": "markdown",
   "id": "222f44c3",
   "metadata": {},
   "source": [
    "Accuracy testing by either getting entire report or basic percentage value or in form of Confuision Matrix."
   ]
  },
  {
   "cell_type": "code",
   "execution_count": 28,
   "id": "bef3f731",
   "metadata": {},
   "outputs": [],
   "source": [
    "from sklearn.metrics import classification_report, accuracy_score, confusion_matrix, precision_score, recall_score, f1_score\n",
    "from sklearn import metrics"
   ]
  },
  {
   "cell_type": "code",
   "execution_count": 29,
   "id": "ea3d3b6d",
   "metadata": {},
   "outputs": [
    {
     "data": {
      "text/plain": [
       "0.9532293986636972"
      ]
     },
     "execution_count": 29,
     "metadata": {},
     "output_type": "execute_result"
    }
   ],
   "source": [
    "accuracy_score(y_test, y_pred)"
   ]
  },
  {
   "cell_type": "code",
   "execution_count": 30,
   "id": "e991b9e8",
   "metadata": {},
   "outputs": [],
   "source": [
    "#confusion matrix\n",
    "cm = confusion_matrix(y_test,y_pred)"
   ]
  },
  {
   "cell_type": "markdown",
   "id": "001bd1a0",
   "metadata": {},
   "source": [
    "The confusion matrix dictates that in the major diagonal elements are the one those are correctly detected. The off diagonal sum is the ones it could not."
   ]
  },
  {
   "cell_type": "code",
   "execution_count": 31,
   "id": "3b5de3a6",
   "metadata": {},
   "outputs": [
    {
     "data": {
      "image/png": "[encoded data removed]",
      "text/plain": [
       "<Figure size 640x480 with 2 Axes>"
      ]
     },
     "metadata": {},
     "output_type": "display_data"
    }
   ],
   "source": [
    "cm_display = metrics.ConfusionMatrixDisplay(confusion_matrix = cm, display_labels = [False, True])\n",
    "\n",
    "cm_display.plot()\n",
    "plt.show()"
   ]
  },
  {
   "cell_type": "code",
   "execution_count": 32,
   "id": "fe4635d6",
   "metadata": {},
   "outputs": [
    {
     "name": "stdout",
     "output_type": "stream",
     "text": [
      "              precision    recall  f1-score   support\n",
      "\n",
      "         ham       0.93      0.99      0.96       227\n",
      "        spam       0.99      0.92      0.95       222\n",
      "\n",
      "    accuracy                           0.95       449\n",
      "   macro avg       0.96      0.95      0.95       449\n",
      "weighted avg       0.96      0.95      0.95       449\n",
      "\n"
     ]
    }
   ],
   "source": [
    "print(classification_report(y_test, y_pred))"
   ]
  },
  {
   "cell_type": "markdown",
   "id": "1082729f",
   "metadata": {},
   "source": [
    "# 6) Application of Support Vector Machine"
   ]
  },
  {
   "cell_type": "code",
   "execution_count": 33,
   "id": "b947a241",
   "metadata": {},
   "outputs": [],
   "source": [
    "from sklearn.svm import SVC"
   ]
  },
  {
   "cell_type": "code",
   "execution_count": 34,
   "id": "b0ed35aa",
   "metadata": {},
   "outputs": [],
   "source": [
    "svm = Pipeline([(\"tfidf\", TfidfVectorizer()), (\"classifier\", SVC(C =100, gamma = 'auto'))])"
   ]
  },
  {
   "cell_type": "code",
   "execution_count": 35,
   "id": "8ab5cf01",
   "metadata": {},
   "outputs": [
    {
     "data": {
      "text/html": [
       "<style>#sk-container-id-2 {color: black;background-color: white;}#sk-container-id-2 pre{padding: 0;}#sk-container-id-2 div.sk-toggleable {background-color: white;}#sk-container-id-2 label.sk-toggleable__label {cursor: pointer;display: block;width: 100%;margin-bottom: 0;padding: 0.3em;box-sizing: border-box;text-align: center;}#sk-container-id-2 label.sk-toggleable__label-arrow:before {content: \"▸\";float: left;margin-right: 0.25em;color: #696969;}#sk-container-id-2 label.sk-toggleable__label-arrow:hover:before {color: black;}#sk-container-id-2 div.sk-estimator:hover label.sk-toggleable__label-arrow:before {color: black;}#sk-container-id-2 div.sk-toggleable__content {max-height: 0;max-width: 0;overflow: hidden;text-align: left;background-color: #f0f8ff;}#sk-container-id-2 div.sk-toggleable__content pre {margin: 0.2em;color: black;border-radius: 0.25em;background-color: #f0f8ff;}#sk-container-id-2 input.sk-toggleable__control:checked~div.sk-toggleable__content {max-height: 200px;max-width: 100%;overflow: auto;}#sk-container-id-2 input.sk-toggleable__control:checked~label.sk-toggleable__label-arrow:before {content: \"▾\";}#sk-container-id-2 div.sk-estimator input.sk-toggleable__control:checked~label.sk-toggleable__label {background-color: #d4ebff;}#sk-container-id-2 div.sk-label input.sk-toggleable__control:checked~label.sk-toggleable__label {background-color: #d4ebff;}#sk-container-id-2 input.sk-hidden--visually {border: 0;clip: rect(1px 1px 1px 1px);clip: rect(1px, 1px, 1px, 1px);height: 1px;margin: -1px;overflow: hidden;padding: 0;position: absolute;width: 1px;}#sk-container-id-2 div.sk-estimator {font-family: monospace;background-color: #f0f8ff;border: 1px dotted black;border-radius: 0.25em;box-sizing: border-box;margin-bottom: 0.5em;}#sk-container-id-2 div.sk-estimator:hover {background-color: #d4ebff;}#sk-container-id-2 div.sk-parallel-item::after {content: \"\";width: 100%;border-bottom: 1px solid gray;flex-grow: 1;}#sk-container-id-2 div.sk-label:hover label.sk-toggleable__label {background-color: #d4ebff;}#sk-container-id-2 div.sk-serial::before {content: \"\";position: absolute;border-left: 1px solid gray;box-sizing: border-box;top: 0;bottom: 0;left: 50%;z-index: 0;}#sk-container-id-2 div.sk-serial {display: flex;flex-direction: column;align-items: center;background-color: white;padding-right: 0.2em;padding-left: 0.2em;position: relative;}#sk-container-id-2 div.sk-item {position: relative;z-index: 1;}#sk-container-id-2 div.sk-parallel {display: flex;align-items: stretch;justify-content: center;background-color: white;position: relative;}#sk-container-id-2 div.sk-item::before, #sk-container-id-2 div.sk-parallel-item::before {content: \"\";position: absolute;border-left: 1px solid gray;box-sizing: border-box;top: 0;bottom: 0;left: 50%;z-index: -1;}#sk-container-id-2 div.sk-parallel-item {display: flex;flex-direction: column;z-index: 1;position: relative;background-color: white;}#sk-container-id-2 div.sk-parallel-item:first-child::after {align-self: flex-end;width: 50%;}#sk-container-id-2 div.sk-parallel-item:last-child::after {align-self: flex-start;width: 50%;}#sk-container-id-2 div.sk-parallel-item:only-child::after {width: 0;}#sk-container-id-2 div.sk-dashed-wrapped {border: 1px dashed gray;margin: 0 0.4em 0.5em 0.4em;box-sizing: border-box;padding-bottom: 0.4em;background-color: white;}#sk-container-id-2 div.sk-label label {font-family: monospace;font-weight: bold;display: inline-block;line-height: 1.2em;}#sk-container-id-2 div.sk-label-container {text-align: center;}#sk-container-id-2 div.sk-container {/* jupyter's `normalize.less` sets `[hidden] { display: none; }` but bootstrap.min.css set `[hidden] { display: none !important; }` so we also need the `!important` here to be able to override the default hidden behavior on the sphinx rendered scikit-learn.org. See: https://github.com/scikit-learn/scikit-learn/issues/21755 */display: inline-block !important;position: relative;}#sk-container-id-2 div.sk-text-repr-fallback {display: none;}</style><div id=\"sk-container-id-2\" class=\"sk-top-container\"><div class=\"sk-text-repr-fallback\"><pre>Pipeline(steps=[(&#x27;tfidf&#x27;, TfidfVectorizer()),\n",
       "                (&#x27;classifier&#x27;, SVC(C=100, gamma=&#x27;auto&#x27;))])</pre><b>In a Jupyter environment, please rerun this cell to show the HTML representation or trust the notebook. <br />On GitHub, the HTML representation is unable to render, please try loading this page with nbviewer.org.</b></div><div class=\"sk-container\" hidden><div class=\"sk-item sk-dashed-wrapped\"><div class=\"sk-label-container\"><div class=\"sk-label sk-toggleable\"><input class=\"sk-toggleable__control sk-hidden--visually\" id=\"sk-estimator-id-4\" type=\"checkbox\" ><label for=\"sk-estimator-id-4\" class=\"sk-toggleable__label sk-toggleable__label-arrow\">Pipeline</label><div class=\"sk-toggleable__content\"><pre>Pipeline(steps=[(&#x27;tfidf&#x27;, TfidfVectorizer()),\n",
       "                (&#x27;classifier&#x27;, SVC(C=100, gamma=&#x27;auto&#x27;))])</pre></div></div></div><div class=\"sk-serial\"><div class=\"sk-item\"><div class=\"sk-estimator sk-toggleable\"><input class=\"sk-toggleable__control sk-hidden--visually\" id=\"sk-estimator-id-5\" type=\"checkbox\" ><label for=\"sk-estimator-id-5\" class=\"sk-toggleable__label sk-toggleable__label-arrow\">TfidfVectorizer</label><div class=\"sk-toggleable__content\"><pre>TfidfVectorizer()</pre></div></div></div><div class=\"sk-item\"><div class=\"sk-estimator sk-toggleable\"><input class=\"sk-toggleable__control sk-hidden--visually\" id=\"sk-estimator-id-6\" type=\"checkbox\" ><label for=\"sk-estimator-id-6\" class=\"sk-toggleable__label sk-toggleable__label-arrow\">SVC</label><div class=\"sk-toggleable__content\"><pre>SVC(C=100, gamma=&#x27;auto&#x27;)</pre></div></div></div></div></div></div></div>"
      ],
      "text/plain": [
       "Pipeline(steps=[('tfidf', TfidfVectorizer()),\n",
       "                ('classifier', SVC(C=100, gamma='auto'))])"
      ]
     },
     "execution_count": 35,
     "metadata": {},
     "output_type": "execute_result"
    }
   ],
   "source": [
    "svm.fit(x_train,y_train)"
   ]
  },
  {
   "cell_type": "markdown",
   "id": "3707c059",
   "metadata": {},
   "source": [
    "# 7) Prediction of SVM Results"
   ]
  },
  {
   "cell_type": "code",
   "execution_count": 36,
   "id": "f2a16bea",
   "metadata": {},
   "outputs": [],
   "source": [
    "y_pred = svm.predict(x_test)"
   ]
  },
  {
   "cell_type": "code",
   "execution_count": 37,
   "id": "6f869890",
   "metadata": {},
   "outputs": [
    {
     "data": {
      "text/plain": [
       "array(['spam', 'spam', 'spam', 'ham', 'spam', 'spam', 'ham', 'ham', 'ham',\n",
       "       'ham', 'spam', 'ham', 'ham', 'spam', 'spam', 'spam', 'spam', 'ham',\n",
       "       'spam', 'spam', 'spam', 'ham', 'spam', 'spam', 'ham', 'spam',\n",
       "       'ham', 'ham', 'spam', 'ham', 'ham', 'spam', 'spam', 'spam', 'spam',\n",
       "       'spam', 'ham', 'ham', 'ham', 'ham', 'spam', 'ham', 'spam', 'ham',\n",
       "       'ham', 'spam', 'ham', 'ham', 'spam', 'spam', 'ham', 'ham', 'ham',\n",
       "       'spam', 'spam', 'spam', 'ham', 'ham', 'spam', 'ham', 'ham', 'ham',\n",
       "       'ham', 'spam', 'spam', 'ham', 'ham', 'ham', 'spam', 'spam', 'spam',\n",
       "       'spam', 'spam', 'ham', 'ham', 'spam', 'spam', 'ham', 'ham', 'ham',\n",
       "       'ham', 'ham', 'ham', 'ham', 'ham', 'spam', 'spam', 'ham', 'spam',\n",
       "       'ham', 'ham', 'spam', 'ham', 'ham', 'spam', 'spam', 'spam', 'ham',\n",
       "       'ham', 'ham', 'spam', 'ham', 'ham', 'spam', 'ham', 'ham', 'ham',\n",
       "       'ham', 'spam', 'spam', 'spam', 'ham', 'ham', 'ham', 'ham', 'spam',\n",
       "       'spam', 'ham', 'spam', 'ham', 'ham', 'ham', 'ham', 'ham', 'ham',\n",
       "       'ham', 'ham', 'ham', 'ham', 'spam', 'ham', 'spam', 'spam', 'ham',\n",
       "       'spam', 'spam', 'spam', 'spam', 'spam', 'spam', 'ham', 'ham',\n",
       "       'ham', 'ham', 'ham', 'spam', 'spam', 'spam', 'ham', 'ham', 'ham',\n",
       "       'spam', 'ham', 'spam', 'ham', 'ham', 'spam', 'ham', 'ham', 'spam',\n",
       "       'ham', 'ham', 'ham', 'spam', 'spam', 'ham', 'ham', 'ham', 'ham',\n",
       "       'ham', 'ham', 'spam', 'spam', 'ham', 'spam', 'ham', 'spam', 'ham',\n",
       "       'ham', 'ham', 'spam', 'ham', 'spam', 'spam', 'spam', 'spam',\n",
       "       'spam', 'ham', 'ham', 'ham', 'ham', 'ham', 'ham', 'ham', 'ham',\n",
       "       'spam', 'ham', 'spam', 'spam', 'spam', 'ham', 'spam', 'ham', 'ham',\n",
       "       'spam', 'ham', 'spam', 'spam', 'spam', 'spam', 'ham', 'ham', 'ham',\n",
       "       'spam', 'ham', 'ham', 'ham', 'spam', 'spam', 'spam', 'ham', 'ham',\n",
       "       'spam', 'spam', 'ham', 'ham', 'spam', 'ham', 'spam', 'spam', 'ham',\n",
       "       'ham', 'ham', 'ham', 'spam', 'spam', 'spam', 'spam', 'ham', 'spam',\n",
       "       'spam', 'ham', 'ham', 'ham', 'spam', 'spam', 'ham', 'ham', 'ham',\n",
       "       'spam', 'spam', 'ham', 'ham', 'ham', 'ham', 'spam', 'spam', 'ham',\n",
       "       'ham', 'spam', 'ham', 'spam', 'spam', 'spam', 'ham', 'ham', 'ham',\n",
       "       'spam', 'ham', 'spam', 'ham', 'ham', 'spam', 'ham', 'spam', 'spam',\n",
       "       'spam', 'ham', 'spam', 'ham', 'spam', 'spam', 'ham', 'spam', 'ham',\n",
       "       'spam', 'spam', 'ham', 'spam', 'spam', 'spam', 'ham', 'spam',\n",
       "       'spam', 'ham', 'ham', 'spam', 'ham', 'ham', 'spam', 'spam', 'spam',\n",
       "       'spam', 'ham', 'ham', 'ham', 'ham', 'ham', 'spam', 'spam', 'ham',\n",
       "       'ham', 'spam', 'spam', 'spam', 'spam', 'ham', 'spam', 'spam',\n",
       "       'spam', 'ham', 'ham', 'ham', 'ham', 'spam', 'ham', 'ham', 'spam',\n",
       "       'spam', 'ham', 'spam', 'ham', 'spam', 'ham', 'ham', 'spam', 'spam',\n",
       "       'ham', 'ham', 'ham', 'spam', 'ham', 'spam', 'spam', 'spam', 'ham',\n",
       "       'ham', 'spam', 'spam', 'ham', 'ham', 'spam', 'spam', 'ham', 'ham',\n",
       "       'ham', 'ham', 'spam', 'ham', 'ham', 'ham', 'spam', 'ham', 'ham',\n",
       "       'spam', 'spam', 'spam', 'ham', 'ham', 'spam', 'ham', 'ham', 'ham',\n",
       "       'spam', 'ham', 'ham', 'ham', 'spam', 'ham', 'ham', 'ham', 'ham',\n",
       "       'spam', 'spam', 'ham', 'spam', 'spam', 'spam', 'ham', 'ham',\n",
       "       'spam', 'ham', 'ham', 'spam', 'ham', 'spam', 'ham', 'ham', 'spam',\n",
       "       'ham', 'ham', 'spam', 'ham', 'ham', 'spam', 'ham', 'ham', 'spam',\n",
       "       'spam', 'spam', 'ham', 'spam', 'spam', 'spam', 'ham', 'ham', 'ham',\n",
       "       'spam', 'ham', 'ham', 'ham', 'spam', 'spam', 'ham', 'spam', 'ham',\n",
       "       'ham', 'ham', 'ham', 'spam', 'ham', 'ham', 'spam', 'ham', 'spam',\n",
       "       'ham', 'ham', 'spam', 'ham', 'spam', 'spam', 'spam', 'ham', 'spam',\n",
       "       'ham', 'spam', 'ham', 'spam', 'spam'], dtype=object)"
      ]
     },
     "execution_count": 37,
     "metadata": {},
     "output_type": "execute_result"
    }
   ],
   "source": [
    "y_pred"
   ]
  },
  {
   "cell_type": "code",
   "execution_count": 38,
   "id": "f5cd2f49",
   "metadata": {},
   "outputs": [
    {
     "data": {
      "text/plain": [
       "0.9465478841870824"
      ]
     },
     "execution_count": 38,
     "metadata": {},
     "output_type": "execute_result"
    }
   ],
   "source": [
    "accuracy_score(y_test, y_pred)"
   ]
  },
  {
   "cell_type": "code",
   "execution_count": 39,
   "id": "2b1cf67f",
   "metadata": {},
   "outputs": [],
   "source": [
    "cm2 = confusion_matrix(y_test,y_pred)"
   ]
  },
  {
   "cell_type": "code",
   "execution_count": 40,
   "id": "ff1eca14",
   "metadata": {},
   "outputs": [
    {
     "data": {
      "image/png": "[encoded data removed]",
      "text/plain": [
       "<Figure size 640x480 with 2 Axes>"
      ]
     },
     "metadata": {},
     "output_type": "display_data"
    }
   ],
   "source": [
    "cm_display = metrics.ConfusionMatrixDisplay(confusion_matrix = cm2, display_labels = [False, True])\n",
    "\n",
    "cm_display.plot()\n",
    "plt.show()"
   ]
  },
  {
   "cell_type": "code",
   "execution_count": 41,
   "id": "ed7c4b68",
   "metadata": {},
   "outputs": [
    {
     "name": "stdout",
     "output_type": "stream",
     "text": [
      "              precision    recall  f1-score   support\n",
      "\n",
      "         ham       0.91      0.99      0.95       227\n",
      "        spam       0.99      0.91      0.94       222\n",
      "\n",
      "    accuracy                           0.95       449\n",
      "   macro avg       0.95      0.95      0.95       449\n",
      "weighted avg       0.95      0.95      0.95       449\n",
      "\n"
     ]
    }
   ],
   "source": [
    "print(classification_report(y_test, y_pred))"
   ]
  },
  {
   "cell_type": "markdown",
   "id": "fce044df",
   "metadata": {},
   "source": [
    "# 8) Predict Testing Data with Both the Models"
   ]
  },
  {
   "cell_type": "code",
   "execution_count": 42,
   "id": "13f302b9",
   "metadata": {},
   "outputs": [],
   "source": [
    "test1 = ['Hello, You are studying in IIT Dhanbad']\n",
    "test2 = ['Hope I will do good and learn a lot of things from here']\n",
    "test3 = ['Congratulations, You have won a lottery worth $1 Million! To claim call on 354758']\n",
    "test4 = ['Your banck account has been decativated! Click on the link www.hrtsyr#$fgj.com to complete KYC']"
   ]
  },
  {
   "cell_type": "code",
   "execution_count": 43,
   "id": "799e830a",
   "metadata": {},
   "outputs": [
    {
     "name": "stdout",
     "output_type": "stream",
     "text": [
      "['ham']\n",
      "['ham']\n",
      "['spam']\n",
      "['spam']\n"
     ]
    }
   ],
   "source": [
    "print(classifier.predict(test1))\n",
    "print(classifier.predict(test2))\n",
    "print(classifier.predict(test3))\n",
    "print(classifier.predict(test4))"
   ]
  },
  {
   "cell_type": "code",
   "execution_count": 44,
   "id": "3a471f33",
   "metadata": {},
   "outputs": [
    {
     "name": "stdout",
     "output_type": "stream",
     "text": [
      "['ham']\n",
      "['ham']\n",
      "['spam']\n",
      "['spam']\n"
     ]
    }
   ],
   "source": [
    "print(svm.predict(test1))\n",
    "print(svm.predict(test2))\n",
    "print(svm.predict(test3))\n",
    "print(svm.predict(test4))"
   ]
  },
  {
   "cell_type": "code",
   "execution_count": 45,
   "id": "b1427ece",
   "metadata": {},
   "outputs": [],
   "source": [
    "test1 = ['Hello, Meenakshi banerjee is my beautiful wife']\n",
    "test2 = ['You are being selected for this job in USA!! which have salary of $10000000!!. Click this link to apply']"
   ]
  },
  {
   "cell_type": "code",
   "execution_count": 46,
   "id": "72cc20f1",
   "metadata": {},
   "outputs": [
    {
     "name": "stdout",
     "output_type": "stream",
     "text": [
      "['ham']\n",
      "['spam']\n"
     ]
    }
   ],
   "source": [
    "print(svm.predict(test1))\n",
    "print(svm.predict(test2))"
   ]
  },
  {
   "cell_type": "code",
   "execution_count": 47,
   "id": "ef68c1e9",
   "metadata": {},
   "outputs": [
    {
     "name": "stdout",
     "output_type": "stream",
     "text": [
      "['ham']\n",
      "['ham']\n"
     ]
    }
   ],
   "source": [
    "print(classifier.predict(test1))\n",
    "print(classifier.predict(test2))"
   ]
  },
  {
   "cell_type": "code",
   "execution_count": null,
   "id": "0204aa45",
   "metadata": {},
   "outputs": [],
   "source": []
  },
  {
   "cell_type": "code",
   "execution_count": null,
   "id": "76191673",
   "metadata": {},
   "outputs": [],
   "source": []
  }
 ],
 "metadata": {
  "kernelspec": {
   "display_name": "Python 3 (ipykernel)",
   "language": "python",
   "name": "python3"
  },
  "language_info": {
   "codemirror_mode": {
    "name": "ipython",
    "version": 3
   },
   "file_extension": ".py",
   "mimetype": "text/x-python",
   "name": "python",
   "nbconvert_exporter": "python",
   "pygments_lexer": "ipython3",
   "version": "3.8.17"
  }
 },
 "nbformat": 4,
 "nbformat_minor": 5
}
